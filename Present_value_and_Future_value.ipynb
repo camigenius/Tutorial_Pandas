{
  "nbformat": 4,
  "nbformat_minor": 0,
  "metadata": {
    "colab": {
      "name": "Present_value and Future_value",
      "provenance": [],
      "collapsed_sections": [],
      "authorship_tag": "ABX9TyOMnmFJ4uQWCEgVHl20KVtw",
      "include_colab_link": true
    },
    "kernelspec": {
      "name": "python3",
      "display_name": "Python 3"
    },
    "language_info": {
      "name": "python"
    }
  },
  "cells": [
    {
      "cell_type": "markdown",
      "metadata": {
        "id": "view-in-github",
        "colab_type": "text"
      },
      "source": [
        "<a href=\"https://colab.research.google.com/github/camigenius/Tutorial_Pandas/blob/main/Present_value_and_Future_value.ipynb\" target=\"_parent\"><img src=\"https://colab.research.google.com/assets/colab-badge.svg\" alt=\"Open In Colab\"/></a>"
      ]
    },
    {
      "cell_type": "markdown",
      "source": [
        "<img src = \"https://numpy.org/numpy-financial/latest/_static/numpy_financial_logov.svg\" alt = \"Encabezado MLDS\" width = \"60%\"/> "
      ],
      "metadata": {
        "id": "NgV7DaILoMOw"
      }
    },
    {
      "cell_type": "code",
      "source": [
        ""
      ],
      "metadata": {
        "id": "gn1P8EOd7ls-"
      },
      "execution_count": null,
      "outputs": []
    },
    {
      "cell_type": "markdown",
      "source": [
        "# **FUTURE VALUE**\n",
        "\n",
        "##$FV=PV(1+r)^n$ \n",
        "\n",
        "# **PRESENT VALUE**\n",
        "\n",
        "##$PV=\\frac{FV}{(1+r)^n}$\n"
      ],
      "metadata": {
        "id": "6e42W_DFhlVt"
      }
    },
    {
      "cell_type": "code",
      "source": [
        "!pip install numpy_financial"
      ],
      "metadata": {
        "colab": {
          "base_uri": "https://localhost:8080/"
        },
        "id": "0gGqE8Mq29_C",
        "outputId": "3f49fb20-69a1-4079-b7a3-23aadec9bbb9"
      },
      "execution_count": 123,
      "outputs": [
        {
          "output_type": "stream",
          "name": "stdout",
          "text": [
            "Requirement already satisfied: numpy_financial in /usr/local/lib/python3.7/dist-packages (1.0.0)\n",
            "Requirement already satisfied: numpy>=1.15 in /usr/local/lib/python3.7/dist-packages (from numpy_financial) (1.21.5)\n"
          ]
        }
      ]
    },
    {
      "cell_type": "code",
      "source": [
        "import numpy_financial as npf"
      ],
      "metadata": {
        "id": "-oesN2I33FPN"
      },
      "execution_count": 124,
      "outputs": []
    },
    {
      "cell_type": "code",
      "source": [
        "# Future value\n",
        "FV= 100*(1+0.1)**2\n",
        "FV\n"
      ],
      "metadata": {
        "colab": {
          "base_uri": "https://localhost:8080/"
        },
        "id": "uLstWniw3KRM",
        "outputId": "799c12a0-7b6a-4d1b-fcd6-c28bb87ac4a7"
      },
      "execution_count": 125,
      "outputs": [
        {
          "output_type": "execute_result",
          "data": {
            "text/plain": [
              "121.00000000000001"
            ]
          },
          "metadata": {},
          "execution_count": 125
        }
      ]
    },
    {
      "cell_type": "code",
      "source": [
        "PV=100 # present valur\n",
        "r=0.1# 10% rate\n",
        "n=2\n",
        "FV=PV*(1+r)**n\n",
        "print('The present value is :',round(FV))"
      ],
      "metadata": {
        "colab": {
          "base_uri": "https://localhost:8080/"
        },
        "id": "pF1b-QK93cks",
        "outputId": "25500795-c49a-494a-c774-2e48f76cf09f"
      },
      "execution_count": 126,
      "outputs": [
        {
          "output_type": "stream",
          "name": "stdout",
          "text": [
            "The present value is : 121\n"
          ]
        }
      ]
    },
    {
      "cell_type": "code",
      "source": [
        "FV=npf.fv(r,n,0,-PV).round()\n",
        "FV"
      ],
      "metadata": {
        "colab": {
          "base_uri": "https://localhost:8080/"
        },
        "id": "qoZ5P_aG4EqM",
        "outputId": "09e76bc4-cde5-4f32-f98d-6eebd4314a57"
      },
      "execution_count": 127,
      "outputs": [
        {
          "output_type": "execute_result",
          "data": {
            "text/plain": [
              "121.0"
            ]
          },
          "metadata": {},
          "execution_count": 127
        }
      ]
    },
    {
      "cell_type": "code",
      "source": [
        "n=5\n",
        "PV=100\n",
        "for i in range(n):\n",
        "  FV=npf.fv(r,i,0,-PV).round()\n",
        "  print(f'The present value for {i} periods is: ',round(FV))"
      ],
      "metadata": {
        "colab": {
          "base_uri": "https://localhost:8080/"
        },
        "id": "39E6JmY94Ygl",
        "outputId": "e47601eb-ebca-403b-9114-902fed70c2e3"
      },
      "execution_count": 128,
      "outputs": [
        {
          "output_type": "stream",
          "name": "stdout",
          "text": [
            "The present value for 0 periods is:  100\n",
            "The present value for 1 periods is:  110\n",
            "The present value for 2 periods is:  121\n",
            "The present value for 3 periods is:  133\n",
            "The present value for 4 periods is:  146\n"
          ]
        }
      ]
    },
    {
      "cell_type": "code",
      "source": [
        "# Present Valur\n",
        "PV=121.00000000000001/(1+0.1)**2\n",
        "PV"
      ],
      "metadata": {
        "colab": {
          "base_uri": "https://localhost:8080/"
        },
        "id": "hc_ED2kU5IXZ",
        "outputId": "3b6a8783-15e4-4aa4-92c5-2b741dfcafa2"
      },
      "execution_count": 129,
      "outputs": [
        {
          "output_type": "execute_result",
          "data": {
            "text/plain": [
              "100.0"
            ]
          },
          "metadata": {},
          "execution_count": 129
        }
      ]
    },
    {
      "cell_type": "code",
      "source": [
        "FV=121.00000000000001 # future value\n",
        "r=0.1# 10% rate\n",
        "n=2\n",
        "PV=npf.pv(r,n,0,-FV)\n",
        "PV"
      ],
      "metadata": {
        "colab": {
          "base_uri": "https://localhost:8080/"
        },
        "id": "WNzDtEEE5lF2",
        "outputId": "700326de-815a-4078-88e4-5f2a00322334"
      },
      "execution_count": 130,
      "outputs": [
        {
          "output_type": "execute_result",
          "data": {
            "text/plain": [
              "100.0"
            ]
          },
          "metadata": {},
          "execution_count": 130
        }
      ]
    }
  ]
}